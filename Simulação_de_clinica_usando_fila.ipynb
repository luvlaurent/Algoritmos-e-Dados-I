{
  "cells": [
    {
      "cell_type": "markdown",
      "metadata": {
        "id": "view-in-github",
        "colab_type": "text"
      },
      "source": [
        "<a href=\"https://colab.research.google.com/github/luvlaurent/Algoritmos-e-Dados-I/blob/main/Simula%C3%A7%C3%A3o_de_clinica_usando_fila.ipynb\" target=\"_parent\"><img src=\"https://colab.research.google.com/assets/colab-badge.svg\" alt=\"Open In Colab\"/></a>"
      ]
    },
    {
      "cell_type": "code",
      "execution_count": null,
      "metadata": {
        "id": "WvPeNg7tVucR"
      },
      "outputs": [],
      "source": [
        "import time\n",
        "import random"
      ]
    },
    {
      "cell_type": "code",
      "execution_count": null,
      "metadata": {
        "id": "VsU7MMQQV1XZ"
      },
      "outputs": [],
      "source": [
        "# Define prioridade\n",
        "def definir_prioridade(codigo_tipo, idade):\n",
        "    if codigo_tipo == 1:\n",
        "        return 1  # Emergência\n",
        "    elif codigo_tipo == 2:\n",
        "        return 2  # Gestante\n",
        "    elif idade <= 2:\n",
        "        return 4 # Criança de colo\n",
        "    elif idade >= 60:\n",
        "        return 3  # Idoso\n",
        "    else:\n",
        "        return 5  # Pessoa comum\n",
        "\n",
        "# Classe do paciente\n",
        "class Paciente:\n",
        "    def __init__(self, nome, idade, codigo_tipo):\n",
        "        self.nome = nome\n",
        "        self.idade = idade\n",
        "        self.codigo_tipo = codigo_tipo\n",
        "        self.prioridade = definir_prioridade(codigo_tipo, idade)\n",
        "        self.entrada = time.time()\n",
        "\n",
        "    def tipo_str(self):\n",
        "        if self.codigo_tipo == 1:\n",
        "            return \"Emergência\"\n",
        "        elif self.codigo_tipo == 2:\n",
        "            return \"Gestante\"\n",
        "        elif self.idade >= 60:\n",
        "            return \"Idoso\"\n",
        "        elif self.idade <= 2:\n",
        "            return \"Criança de colo\"\n",
        "        else:\n",
        "            return \"Comum\"\n",
        "\n",
        "# Clínica com fila como lista\n",
        "class Clinica:\n",
        "    def __init__(self):\n",
        "        self.fila = []\n",
        "        self.atendidos = []\n",
        "\n",
        "    def adicionar_paciente(self, nome, idade, codigo_tipo):\n",
        "        paciente = Paciente(nome, idade, codigo_tipo)\n",
        "        self.fila.append(paciente)\n",
        "        print(f\"📝 {paciente.nome} ({paciente.tipo_str()}) entrou na fila. Prioridade: {paciente.prioridade}\")\n",
        "\n",
        "    def remover_paciente(self, nome):\n",
        "        for paciente in self.fila:\n",
        "            if paciente.nome.lower() == nome.lower():\n",
        "                self.fila.remove(paciente)\n",
        "                print(f\"Paciente {nome} removido da fila.\")\n",
        "                return\n",
        "        print(f\"⚠️ Paciente {nome} não encontrado na fila.\")\n",
        "\n",
        "    def listar_fila(self):\n",
        "        if not self.fila:\n",
        "            print(\"⚠️ A fila está vazia.\")\n",
        "            return\n",
        "        print(\"\\n📋 Fila atual:\")\n",
        "        ordenada = sorted(self.fila, key=lambda p: p.prioridade)\n",
        "        for i, p in enumerate(ordenada, 1):\n",
        "            print(f\"{i}. {p.nome} ({p.tipo_str()}) - Prioridade {p.prioridade}\")\n",
        "\n",
        "    def atender_pacientes(self):\n",
        "        if not self.fila:\n",
        "            print(\"Nenhum paciente na fila.\")\n",
        "            return\n",
        "\n",
        "        print(\"\\n📢 O médico finalmente chegou! Iniciando atendimentos...\\n\")\n",
        "        ordenada = sorted(self.fila, key=lambda p: p.prioridade)\n",
        "        for paciente in ordenada:\n",
        "            espera = time.time() - paciente.entrada\n",
        "            print(f\"✔ {paciente.nome} ({paciente.tipo_str()}) foi atendido! - Esperou {espera/10:.2f}s\")\n",
        "            self.atendidos.append(espera)\n",
        "            time.sleep(1.2)\n",
        "\n",
        "        self.fila = []  # Limpa a fila após atendimento\n",
        "        media = sum(self.atendidos) / len(self.atendidos)\n",
        "        print(f\"\\n📊 Tempo médio de espera: {media:.2f} segundos\")"
      ]
    },
    {
      "cell_type": "code",
      "execution_count": null,
      "metadata": {
        "id": "nVGvjW83W8KC"
      },
      "outputs": [],
      "source": [
        "clinica = Clinica()\n",
        "\n",
        "def menu():\n",
        "    while True:\n",
        "\n",
        "        print(\"\\n=== Menu da Clínica ===\")\n",
        "        print(\"[1] Adicionar paciente\")\n",
        "        print(\"[2] Remover paciente\")\n",
        "        print(\"[3] Listar fila\")\n",
        "        print(\"[4] Atender pacientes\")\n",
        "        print(\"[0] Sair\")\n",
        "\n",
        "        try:\n",
        "            opcao = int(input(\"Escolha uma opção: \"))\n",
        "        except ValueError:\n",
        "            print(\"Entrada inválida.\")\n",
        "            continue\n",
        "\n",
        "        if opcao == 1:\n",
        "            nome = input(\"Nome: \")\n",
        "            try:\n",
        "                idade = int(input(\"Idade: \"))\n",
        "            except ValueError:\n",
        "                print(\"Idade inválida.\")\n",
        "                continue\n",
        "\n",
        "            print(\"\\nTipo de atendimento:\")\n",
        "            print(\"[1] Emergência\")\n",
        "            print(\"[2] Gestante\")\n",
        "            print(\"[3] Pessoa comum\")\n",
        "\n",
        "            try:\n",
        "                tipo = int(input(\"Escolha (1-3): \"))\n",
        "                if tipo not in [1, 2, 3]:\n",
        "                    raise ValueError()\n",
        "            except ValueError:\n",
        "                print(\"Tipo inválido.\")\n",
        "                continue\n",
        "\n",
        "            clinica.adicionar_paciente(nome, idade, tipo)\n",
        "\n",
        "        elif opcao == 2:\n",
        "            nome = input(\"Digite o nome do paciente a remover: \")\n",
        "            clinica.remover_paciente(nome)\n",
        "\n",
        "        elif opcao == 3:\n",
        "            clinica.listar_fila()\n",
        "\n",
        "        elif opcao == 4:\n",
        "            clinica.atender_pacientes()\n",
        "\n",
        "        elif opcao == 0:\n",
        "            print(\"Encerrando...\")\n",
        "            break\n",
        "        else:\n",
        "            print(\"Opção inválida.\")"
      ]
    },
    {
      "cell_type": "code",
      "execution_count": null,
      "metadata": {
        "id": "EZNuanTYW-5X"
      },
      "outputs": [],
      "source": [
        "# Adicionar pacientes\n",
        "menu()"
      ]
    }
  ],
  "metadata": {
    "colab": {
      "provenance": [],
      "authorship_tag": "ABX9TyO/vBcNr7vWepzrInPuxca0",
      "include_colab_link": true
    },
    "kernelspec": {
      "display_name": "Python 3",
      "name": "python3"
    },
    "language_info": {
      "name": "python"
    }
  },
  "nbformat": 4,
  "nbformat_minor": 0
}